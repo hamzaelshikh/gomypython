{
 "cells": [
  {
   "cell_type": "code",
   "execution_count": null,
   "id": "5eb691ee",
   "metadata": {},
   "outputs": [
    {
     "name": "stdout",
     "output_type": "stream",
     "text": [
      "hi let’s play a game i would chose a numper betwen 1 and 100 and you need to guess it \n"
     ]
    }
   ],
   "source": [
    "import random\n",
    "secret_num=random.randint(1,100 )\n",
    "\n",
    "print(\"hi let’s play a game i would chose a numper betwen 1 and 100 and you need to guess it \")\n",
    "\n",
    "player_guess = int(input(\"please input your guess:\" ))\n",
    "\n",
    "\n",
    "while player_guess != secret_num :\n",
    "    if player_guess >secret_num:\n",
    "        print(\"your answer is to high\")\n",
    "        player_guess = int(input(\"please input your guess:\"))\n",
    "    elif player_guess < secret_num :\n",
    "        print(\"your answer is too low\")\n",
    "        player_guess = int(input(\"please input your guess:\"))\n",
    "    else:\n",
    "        break\n",
    "\n",
    "print(\"congrats you won !\")"
   ]
  },
  {
   "cell_type": "code",
   "execution_count": null,
   "id": "7f35bf2e",
   "metadata": {},
   "outputs": [],
   "source": []
  }
 ],
 "metadata": {
  "kernelspec": {
   "display_name": "Python 3 (ipykernel)",
   "language": "python",
   "name": "python3"
  },
  "language_info": {
   "codemirror_mode": {
    "name": "ipython",
    "version": 3
   },
   "file_extension": ".py",
   "mimetype": "text/x-python",
   "name": "python",
   "nbconvert_exporter": "python",
   "pygments_lexer": "ipython3",
   "version": "3.10.9"
  }
 },
 "nbformat": 4,
 "nbformat_minor": 5
}
