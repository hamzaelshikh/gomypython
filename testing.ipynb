{
 "cells": [
  {
   "cell_type": "code",
   "execution_count": null,
   "id": "8e0499bf",
   "metadata": {},
   "outputs": [],
   "source": [
    "def binary_search(sequence, item):\n",
    "    begin_index = 0\n",
    "    end_index = len(sequence) - 1\n",
    "\n",
    "    while begin_index <= end_index:\n",
    "        midpoint = begin_index + (end_index - begin_index) // 2\n",
    "        midpoint_value = sequence[midpoint]\n",
    "        if midpoint_value == item:\n",
    "            return midpoint\n",
    "\n",
    "        elif item < midpoint_value:\n",
    "            end_index = midpoint - 1\n",
    "\n",
    "        else:\n",
    "            begin_index = midpoint + 1\n",
    "\n",
    "    return \"False not found\"\n",
    "\n",
    "sequence_a = [1,2,3,5,8]\n",
    "item_a = 6\n",
    "sequence_b = [1,2,3,5,8]\n",
    "item_b = 5\n",
    "\n",
    "print(binary_search(sequence_a, item_a),\"\\n\")\n",
    "print(binary_search(sequence_b, item_b))"
   ]
  },
  {
   "cell_type": "code",
   "execution_count": null,
   "id": "94ed454f",
   "metadata": {
    "scrolled": true
   },
   "outputs": [],
   "source": [
    "def bubble_sort(sequence):\n",
    "    length = len(sequence)-1\n",
    "    ahmed = False\n",
    "    while not ahmed:\n",
    "        ahmed = True\n",
    "        for i in range(length):\n",
    "            if sequence[i] > sequence[i+1]:\n",
    "                ahmed = False\n",
    "                sequence[i] , sequence[i+1] = sequence[i+1] , sequence[i]\n",
    "            print(sequence)\n",
    "    return sequence\n",
    "x =  [29,13,22,37,52,49,46,71,56]\n",
    "print(bubble_sort(x))"
   ]
  },
  {
   "cell_type": "code",
   "execution_count": 12,
   "id": "46f92c6d",
   "metadata": {},
   "outputs": [
    {
     "name": "stdout",
     "output_type": "stream",
     "text": [
      "[13, 22, 29, 37, 46, 49, 52, 56, 71]\n"
     ]
    }
   ],
   "source": [
    "def mergeSort(liss):\n",
    "    if len(liss) > 1:\n",
    "        mid = len(liss) // 2\n",
    "        left_list=liss[:mid]\n",
    "        right_list=liss[mid:]\n",
    "\n",
    "        mergeSort(left_list)\n",
    "        mergeSort(right_list)\n",
    "        i = 0\n",
    "        j = 0\n",
    "        k = 0\n",
    "        while i < len(left_list) and j < len(right_list):\n",
    "            if left_list[i] <= right_list[j]:\n",
    "                liss[k] = left_list[i]\n",
    "                i += 1\n",
    "            else:\n",
    "                liss[k] = right_list[j]\n",
    "                j += 1\n",
    "            k += 1\n",
    "\n",
    "\n",
    "        while i < len(left_list):\n",
    "            liss[k] = left_list[i]\n",
    "            i += 1\n",
    "            k += 1\n",
    "        while j < len(right_list):\n",
    "            liss[k] = right_list[j]\n",
    "            j += 1\n",
    "            k += 1\n",
    "\n",
    "\n",
    "\n",
    "\n",
    "myList = [29,13,22,37,52,49,46,71,56]\n",
    "mergeSort(myList)\n",
    "print(myList)"
   ]
  },
  {
   "cell_type": "code",
   "execution_count": 14,
   "id": "05b8956d",
   "metadata": {},
   "outputs": [
    {
     "name": "stdout",
     "output_type": "stream",
     "text": [
      "[13, 22, 29, 37, 46, 49, 52, 56, 71]\n"
     ]
    }
   ],
   "source": [
    "def quick_sort(sequence):\n",
    "    length = len(sequence)\n",
    "    if length <= 1:\n",
    "        return sequence\n",
    "    else :\n",
    "        pivot = sequence.pop()\n",
    "    items_greater = []\n",
    "    items_lower = []\n",
    "    for i in sequence:\n",
    "        if i > pivot:\n",
    "            items_greater.append(i)\n",
    "        else:\n",
    "            items_lower.append(i)\n",
    "    return quick_sort(items_lower) + [pivot] + quick_sort(items_greater)\n",
    "\n",
    "\n",
    "x = [29,13,22,37,52,49,46,71,56]\n",
    "print(quick_sort(x))"
   ]
  },
  {
   "cell_type": "code",
   "execution_count": null,
   "id": "ca88c271",
   "metadata": {},
   "outputs": [],
   "source": []
  }
 ],
 "metadata": {
  "kernelspec": {
   "display_name": "Python 3",
   "language": "python",
   "name": "python3"
  },
  "language_info": {
   "codemirror_mode": {
    "name": "ipython",
    "version": 3
   },
   "file_extension": ".py",
   "mimetype": "text/x-python",
   "name": "python",
   "nbconvert_exporter": "python",
   "pygments_lexer": "ipython3",
   "version": "3.8.8"
  }
 },
 "nbformat": 4,
 "nbformat_minor": 5
}
