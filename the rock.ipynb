{
 "cells": [
  {
   "cell_type": "code",
   "execution_count": null,
   "id": "ba5b8f1c",
   "metadata": {},
   "outputs": [],
   "source": [
    "import random\n",
    "user_wins =0\n",
    "computer_wins =0\n",
    "\n",
    "options=[\"rock\",\"paper\",\"scissors\"]\n",
    "\n",
    "while True:\n",
    "    user_input=input(\"type rock/paper/scissors q to quit \")\n",
    "    if user_input== \"q\":\n",
    "        break\n",
    "\n",
    "\n",
    "    if user_input not in [ \"rock\",\"paper\",\"scissors\"]:\n",
    "        continue\n",
    "#rock=0, papir=1, scicors=2\n",
    "\n",
    "    random_numper= random.randint(0,2)\n",
    "    computer_pick=options[random_numper]\n",
    "    print(\"computer picked\",computer_pick + \".\")\n",
    "\n",
    "    if user_input == \"rock\" and computer_pick ==\"scissors\":\n",
    "        print(\"you won\")\n",
    "        user_wins+=1\n",
    "\n",
    "    elif user_input == \"scissors\" and computer_pick == \"paper\":\n",
    "        print(\"you won\")\n",
    "        user_wins += 1\n",
    "\n",
    "    elif user_input == \"paper\" and computer_pick == \"rock\":\n",
    "        print(\"you won\")\n",
    "        user_wins += 1\n",
    "\n",
    "    else:\n",
    "        print(\"you lost!\")\n",
    "        computer_wins+= 1\n",
    "\n",
    "print(\"you won\",user_wins,\"times\")\n",
    "\n",
    "print(\"computer won\",computer_wins,\"times\")\n",
    "\n",
    "print(\"good bye!\")\n"
   ]
  }
 ],
 "metadata": {
  "kernelspec": {
   "display_name": "Python 3 (ipykernel)",
   "language": "python",
   "name": "python3"
  },
  "language_info": {
   "codemirror_mode": {
    "name": "ipython",
    "version": 3
   },
   "file_extension": ".py",
   "mimetype": "text/x-python",
   "name": "python",
   "nbconvert_exporter": "python",
   "pygments_lexer": "ipython3",
   "version": "3.10.9"
  }
 },
 "nbformat": 4,
 "nbformat_minor": 5
}
