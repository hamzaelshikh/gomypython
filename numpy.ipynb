{
 "cells": [
  {
   "cell_type": "code",
   "execution_count": null,
   "id": "de64fd39",
   "metadata": {},
   "outputs": [],
   "source": [
    "import numpy as np\n",
    "\n",
    "\n",
    "stu = int(input(\"input numper of students: \"))\n",
    "sup = int(input(\"numper of supjects:\"))\n",
    " \n",
    "    \n",
    "    \n",
    "\n",
    "    \n",
    "temp=[]\n",
    "total=[]\n",
    "for i in range (1,stu+1):\n",
    "    print (\"enter info for student:\",i)\n",
    "    for j in range(1,sup+1):\n",
    "        print(\" please grades for supject:\",j)\n",
    "        x =int(input())\n",
    "        temp.append(x)\n",
    "        total .append(sum(temp))\n",
    "perc=[]\n",
    "for i in total:\n",
    "    perc.append(i/(sup*100)*100)\n",
    "    \n",
    "grade=[]\n",
    "for i in perc:\n",
    "    if i>=90:\n",
    "        grade.append(\"A+\")\n",
    "    elif i >= 80:\n",
    "        grade.append(\"A\")\n",
    "    elif i >= 70:\n",
    "        grade.append(\"B+\")\n",
    "    elif i >= 60:\n",
    "        grade.append(\"B\")\n",
    "    elif i >= 50:\n",
    "        grade.append(\"c\")\n",
    "    else:\n",
    "        grade.append(\"F\")\n",
    "arr=np.array([total,perc,grade])\n",
    "\n",
    "    "
   ]
  }
 ],
 "metadata": {
  "kernelspec": {
   "display_name": "Python 3 (ipykernel)",
   "language": "python",
   "name": "python3"
  },
  "language_info": {
   "codemirror_mode": {
    "name": "ipython",
    "version": 3
   },
   "file_extension": ".py",
   "mimetype": "text/x-python",
   "name": "python",
   "nbconvert_exporter": "python",
   "pygments_lexer": "ipython3",
   "version": "3.10.9"
  }
 },
 "nbformat": 4,
 "nbformat_minor": 5
}
