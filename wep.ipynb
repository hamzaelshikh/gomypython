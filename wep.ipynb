{
 "cells": [
  {
   "cell_type": "code",
   "execution_count": null,
   "id": "a87717b6",
   "metadata": {},
   "outputs": [],
   "source": [
    "!pip install requests_html"
   ]
  },
  {
   "cell_type": "code",
   "execution_count": null,
   "id": "18e0cc3b",
   "metadata": {},
   "outputs": [],
   "source": [
    "from requests_html import HTMLSession\n",
    "from bs4 import BeautifulSoup\n",
    "\n",
    "ht = HTMLSession()\n",
    "\n",
    "url = \"https://en.wikipedia.org/wiki/Egypt\"\n",
    "def data(x):\n",
    "    \n",
    "    gt = ht.get(x)\n",
    "    soup = BeautifulSoup(gt.text,\"html.parser\")\n",
    "    \n",
    "    return soup\n",
    "\n",
    "soup = data(url)\n",
    "print(soup)\n"
   ]
  },
  {
   "cell_type": "code",
   "execution_count": null,
   "id": "50208659",
   "metadata": {},
   "outputs": [],
   "source": [
    "def title(soup) : \n",
    "    titles =soup.find(\"span\",{\"class\":\"mw-page-title-main\"}).get_text\n",
    "    return titles\n",
    "\n",
    "\n",
    "\n",
    "def title1 (soup):\n",
    "    titles = soup.select_one(\" .mw-page-title-main\")\n",
    "    return titles.get_text()\n",
    "\n",
    "print(title(soup))\n",
    "print(title(soup))"
   ]
  },
  {
   "cell_type": "code",
   "execution_count": null,
   "id": "5fe734fa",
   "metadata": {},
   "outputs": [],
   "source": [
    "def paragraphs():\n",
    "    \n",
    "    \n",
    "    for head in soup.find_all(\"p\"):\n",
    "        \n",
    "        \n",
    "        print(head.get_text)\n",
    "        \n",
    "        \n",
    "paragraphs()"
   ]
  },
  {
   "cell_type": "code",
   "execution_count": null,
   "id": "fac00eb0",
   "metadata": {},
   "outputs": [],
   "source": [
    "def links ():\n",
    "    links ={}\n",
    "    for link in soup.find_all(\"a\"):\n",
    "        url =link.get(\"href\",\"\")\n",
    "        if \"/wiki/\"in url:\n",
    "            links[link.text.strip()]= url\n",
    "    print(links,\"/n\")\n",
    "\n",
    "links()"
   ]
  }
 ],
 "metadata": {
  "kernelspec": {
   "display_name": "Python 3 (ipykernel)",
   "language": "python",
   "name": "python3"
  },
  "language_info": {
   "codemirror_mode": {
    "name": "ipython",
    "version": 3
   },
   "file_extension": ".py",
   "mimetype": "text/x-python",
   "name": "python",
   "nbconvert_exporter": "python",
   "pygments_lexer": "ipython3",
   "version": "3.10.9"
  }
 },
 "nbformat": 4,
 "nbformat_minor": 5
}
