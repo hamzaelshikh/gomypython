{
 "cells": [
  {
   "cell_type": "code",
   "execution_count": 11,
   "id": "37f246da",
   "metadata": {},
   "outputs": [],
   "source": [
    "class point_3d:\n",
    "    def __init__(self,x,y,z):\n",
    "        self.x = x\n",
    "        self.y = y\n",
    "        self.z = z\n",
    "    def return_values(self):\n",
    "        return((self.x,self.y,self.z))\n",
    "        \n"
   ]
  },
  {
   "cell_type": "code",
   "execution_count": 12,
   "id": "845552a1",
   "metadata": {},
   "outputs": [],
   "source": [
    "my_point=point_3d(1,2,3)\n"
   ]
  },
  {
   "cell_type": "code",
   "execution_count": 13,
   "id": "d951e095",
   "metadata": {},
   "outputs": [
    {
     "name": "stdout",
     "output_type": "stream",
     "text": [
      "(1, 2, 3)\n"
     ]
    }
   ],
   "source": [
    "print(my_point.return_values())"
   ]
  },
  {
   "cell_type": "code",
   "execution_count": 18,
   "id": "a2e157ee",
   "metadata": {},
   "outputs": [],
   "source": [
    "class Rectangle:\n",
    "    def __init__(self,length,width):\n",
    "        self.length=length\n",
    "        self.width=width\n",
    "    \n",
    "    def area(self):\n",
    "        return(self.length*self.width)\n",
    "    \n",
    "    def perimeter(self):\n",
    "        return(2*(self.length+self.width))"
   ]
  },
  {
   "cell_type": "code",
   "execution_count": 19,
   "id": "6e6f1055",
   "metadata": {},
   "outputs": [],
   "source": [
    "my_rectangle= Rectangle(4,3)"
   ]
  },
  {
   "cell_type": "code",
   "execution_count": 20,
   "id": "3aa79235",
   "metadata": {
    "scrolled": true
   },
   "outputs": [
    {
     "name": "stdout",
     "output_type": "stream",
     "text": [
      "12\n",
      "14\n"
     ]
    }
   ],
   "source": [
    "print(my_rectangle.area())\n",
    "print(my_rectangle.perimeter())"
   ]
  },
  {
   "cell_type": "code",
   "execution_count": 21,
   "id": "a1fb3951",
   "metadata": {},
   "outputs": [],
   "source": [
    "import math as m\n",
    "\n",
    "class circle:\n",
    "    def __init__(self,centerx,centery,radius):\n",
    "        self.centery=centery\n",
    "        self.centerx=centerx\n",
    "        self.radius=radius\n",
    "    \n",
    "    def area(self):\n",
    "        return(m.pi*self.radius*self.radius)\n",
    "        \n",
    "    def perimater(self):\n",
    "        return(2*m.pi*self.radius)\n",
    "    #(x - center_x)² + (y - center_y)² < radius²\n",
    "    def test(self,pointy,pointx):\n",
    "        return(((pointx-centerx)**2+(pointy-centery)**2)<radius**2)\n"
   ]
  },
  {
   "cell_type": "code",
   "execution_count": null,
   "id": "ccd6113e",
   "metadata": {},
   "outputs": [],
   "source": [
    "class Bank:\n",
    "    def __init__(self,balance):\n",
    "        self.balance=blance\n",
    "    def deposit(self,amount_of_money):\n",
    "            return(balance+amount_of_money)\n",
    "    def withdrow(self,amount_of_money):\n",
    "        return(balancce-amount)"
   ]
  },
  {
   "cell_type": "code",
   "execution_count": null,
   "id": "4dd33302",
   "metadata": {},
   "outputs": [],
   "source": []
  },
  {
   "cell_type": "code",
   "execution_count": null,
   "id": "4fa151af",
   "metadata": {},
   "outputs": [],
   "source": []
  }
 ],
 "metadata": {
  "kernelspec": {
   "display_name": "Python 3 (ipykernel)",
   "language": "python",
   "name": "python3"
  },
  "language_info": {
   "codemirror_mode": {
    "name": "ipython",
    "version": 3
   },
   "file_extension": ".py",
   "mimetype": "text/x-python",
   "name": "python",
   "nbconvert_exporter": "python",
   "pygments_lexer": "ipython3",
   "version": "3.10.9"
  }
 },
 "nbformat": 4,
 "nbformat_minor": 5
}
