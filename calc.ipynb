{
 "cells": [
  {
   "cell_type": "code",
   "execution_count": 6,
   "id": "fc52dbb6",
   "metadata": {
    "scrolled": true
   },
   "outputs": [
    {
     "name": "stdout",
     "output_type": "stream",
     "text": [
      "what kind of opration do you like to do you could chose betwen +,-,/,* :*\n",
      "input the first numper:5\n",
      "input the second numper:3\n",
      "15\n"
     ]
    }
   ],
   "source": [
    "\n",
    "\n",
    "op =(input(\"what kind of opration do you like to do you could chose betwen +,-,/,* :\"))\n",
    "\n",
    "num1=int (input(\"input the first numper:\"))\n",
    "()\n",
    "num2=int(input(\"input the second numper:\"))\n",
    "     \n",
    "\n",
    " \n",
    "if op == \"+\":\n",
    "    print(num1+num2)\n",
    "     \n",
    "elif op == \"-\":\n",
    "    print(num1-num2)\n",
    "elif op == \"/\":\n",
    "    print(num1/num2)\n",
    "elif op == \"*\":\n",
    "    print(num1*num2)\n",
    "else:\n",
    "    print(\"this opretion is not valid\")\n",
    "     "
   ]
  },
  {
   "cell_type": "code",
   "execution_count": null,
   "id": "d8d7e288",
   "metadata": {},
   "outputs": [],
   "source": []
  }
 ],
 "metadata": {
  "kernelspec": {
   "display_name": "Python 3 (ipykernel)",
   "language": "python",
   "name": "python3"
  },
  "language_info": {
   "codemirror_mode": {
    "name": "ipython",
    "version": 3
   },
   "file_extension": ".py",
   "mimetype": "text/x-python",
   "name": "python",
   "nbconvert_exporter": "python",
   "pygments_lexer": "ipython3",
   "version": "3.10.9"
  }
 },
 "nbformat": 4,
 "nbformat_minor": 5
}
