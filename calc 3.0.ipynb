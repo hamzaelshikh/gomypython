{
 "cells": [
  {
   "cell_type": "code",
   "execution_count": 1,
   "id": "fc52dbb6",
   "metadata": {
    "scrolled": true
   },
   "outputs": [],
   "source": [
    "\n",
    "def calc(num1,num2):\n",
    "    op =(input(\"what kind of opration do you like to do you could chose betwen +,-,/,* :\")\n",
    "\n",
    "    if op == \"+\":\n",
    "        return(num1+num2)\n",
    "\n",
    "    elif op == \"-\":\n",
    "        return(num1-num2)\n",
    "         \n",
    "    elif op == \"/\":\n",
    "        return(num1/num2)\n",
    "         \n",
    "    elif op == \"*\":\n",
    "        return(num1*num2)\n",
    "         \n",
    "    else:\n",
    "        return(\"this opretion is not valid\")\n",
    "     "
   ]
  },
  {
   "cell_type": "code",
   "execution_count": null,
   "id": "d8d7e288",
   "metadata": {
    "scrolled": true
   },
   "outputs": [
    {
     "name": "stdout",
     "output_type": "stream",
     "text": [
      "input the first numper:5\n",
      "input the second numper:7\n",
      "what kind of opration do you like to do you could chose betwen +,-,/,* :-\n"
     ]
    }
   ],
   "source": [
    "n1=int (input(\"input the first numper:\"))\n",
    "\n",
    "n2=int(input(\"input the second numper:\"))\n",
    "\n",
    "calc(n1,n2)\n"
   ]
  },
  {
   "cell_type": "code",
   "execution_count": null,
   "id": "82a9fd24",
   "metadata": {},
   "outputs": [],
   "source": []
  }
 ],
 "metadata": {
  "kernelspec": {
   "display_name": "Python 3 (ipykernel)",
   "language": "python",
   "name": "python3"
  },
  "language_info": {
   "codemirror_mode": {
    "name": "ipython",
    "version": 3
   },
   "file_extension": ".py",
   "mimetype": "text/x-python",
   "name": "python",
   "nbconvert_exporter": "python",
   "pygments_lexer": "ipython3",
   "version": "3.10.9"
  }
 },
 "nbformat": 4,
 "nbformat_minor": 5
}
